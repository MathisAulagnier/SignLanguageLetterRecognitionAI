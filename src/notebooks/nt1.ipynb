{
 "cells": [
  {
   "cell_type": "code",
   "execution_count": 2,
   "metadata": {},
   "outputs": [],
   "source": [
    "import torch\n",
    "import torch.nn as nn\n",
    "import torch.optim as optim\n",
    "from torch.utils.data import Dataset, DataLoader\n",
    "import numpy as np\n",
    "import pandas as pd"
   ]
  },
  {
   "cell_type": "code",
   "execution_count": 11,
   "metadata": {},
   "outputs": [
    {
     "name": "stdout",
     "output_type": "stream",
     "text": [
      "/Users/mathisaulagnier/SignLanguageLetterRecognitionAI/src/notebooks\n",
      "/Users/mathisaulagnier/SignLanguageLetterRecognitionAI/src/notebooks\n",
      "/Users/mathisaulagnier/SignLanguageLetterRecognitionAI\n"
     ]
    }
   ],
   "source": [
    "# Se placer dans le bon répertoire\n",
    "import os\n",
    "import sys\n",
    "\n",
    "ROOT_DIR = os.path.abspath(\"../../\")"
   ]
  },
  {
   "cell_type": "code",
   "execution_count": 3,
   "metadata": {},
   "outputs": [],
   "source": [
    "class CustomDataset(Dataset):\n",
    "    def __init__(self, file_path):\n",
    "        self.data = pd.read_csv(file_path)\n",
    "        self.X = torch.tensor(self.data.iloc[:, 1:].values, dtype=torch.float32)  # Les caractéristiques commencent à la colonne 1\n",
    "        self.y = torch.tensor(self.data.iloc[:, 0].values, dtype=torch.long)     # La première colonne est la cible\n",
    "        \n",
    "    def __len__(self):\n",
    "        return len(self.data)\n",
    "    \n",
    "    def __getitem__(self, idx):\n",
    "        return self.X[idx], self.y[idx]"
   ]
  },
  {
   "cell_type": "code",
   "execution_count": 4,
   "metadata": {},
   "outputs": [],
   "source": [
    "class SimpleModel(nn.Module):\n",
    "    def __init__(self, input_size, hidden_size, num_classes):\n",
    "        super(SimpleModel, self).__init__()\n",
    "        self.fc1 = nn.Linear(input_size, hidden_size)\n",
    "        self.relu = nn.ReLU()\n",
    "        self.fc2 = nn.Linear(hidden_size, num_classes)\n",
    "        \n",
    "    def forward(self, x):\n",
    "        out = self.fc1(x)\n",
    "        out = self.relu(out)\n",
    "        out = self.fc2(out)\n",
    "        return out\n"
   ]
  },
  {
   "cell_type": "code",
   "execution_count": 13,
   "metadata": {},
   "outputs": [],
   "source": [
    "# Définition des paramètres\n",
    "input_size = 784 # nombre de pixels dans une image\n",
    "hidden_size = 128 # nombre de neurones dans la couche cachée\n",
    "num_classes = 26  # Nombre de lettres de l'alphabet (Sorties possibles)\n",
    "\n",
    "learning_rate = 0.001 # Taux d'apprentissage\n",
    "num_epochs = 10 # Nombre d'itérations sur le jeu de données\n",
    "batch_size = 28 # Nombre d'images à traiter en même temps\n",
    "\n",
    "\n",
    "# Se placer dans le bon répertoire\n",
    "import os\n",
    "import sys\n",
    "\n",
    "ROOT_DIR = os.path.abspath(\"../../\")\n",
    "\n",
    "train_dataset_path = os.path.join(ROOT_DIR, \"data/sign_mnist_train/sign_mnist_train.csv\")\n",
    "test_dataset_path = os.path.join(ROOT_DIR, \"data/sign_mnist_test/sign_mnist_test.csv\")\n",
    "\n",
    "train_dataset = CustomDataset(train_dataset_path)\n",
    "test_dataset = CustomDataset(test_dataset_path)\n",
    "\n",
    "train_loader = DataLoader(train_dataset, batch_size=batch_size, shuffle=True)\n",
    "test_loader = DataLoader(test_dataset, batch_size=batch_size, shuffle=False)\n"
   ]
  }
 ],
 "metadata": {
  "kernelspec": {
   "display_name": "proj_ia",
   "language": "python",
   "name": "python3"
  },
  "language_info": {
   "codemirror_mode": {
    "name": "ipython",
    "version": 3
   },
   "file_extension": ".py",
   "mimetype": "text/x-python",
   "name": "python",
   "nbconvert_exporter": "python",
   "pygments_lexer": "ipython3",
   "version": "3.11.8"
  }
 },
 "nbformat": 4,
 "nbformat_minor": 2
}
