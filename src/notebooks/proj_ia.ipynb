{
 "cells": [
  {
   "cell_type": "code",
   "execution_count": 2,
   "metadata": {
    "metadata": {}
   },
   "outputs": [],
   "source": [
    "import numpy as np\n",
    "import pandas as pd\n",
    "\n",
    "import torch\n",
    "import torch.nn as nn\n",
    "import torch.nn.functional as F\n",
    "import torch.utils.data\n",
    "from torch.autograd import Variable\n",
    "from torchvision.transforms import v2\n",
    "\n",
    "import matplotlib.pyplot as plt\n",
    "import matplotlib.cm as cm\n",
    "\n",
    "import random\n"
   ]
  },
  {
   "cell_type": "code",
   "execution_count": 3,
   "metadata": {
    "metadata": {}
   },
   "outputs": [
    {
     "data": {
      "text/html": [
       "<div>\n",
       "<style scoped>\n",
       "    .dataframe tbody tr th:only-of-type {\n",
       "        vertical-align: middle;\n",
       "    }\n",
       "\n",
       "    .dataframe tbody tr th {\n",
       "        vertical-align: top;\n",
       "    }\n",
       "\n",
       "    .dataframe thead th {\n",
       "        text-align: right;\n",
       "    }\n",
       "</style>\n",
       "<table border=\"1\" class=\"dataframe\">\n",
       "  <thead>\n",
       "    <tr style=\"text-align: right;\">\n",
       "      <th></th>\n",
       "      <th>label</th>\n",
       "      <th>pixel1</th>\n",
       "      <th>pixel2</th>\n",
       "      <th>pixel3</th>\n",
       "      <th>pixel4</th>\n",
       "      <th>pixel5</th>\n",
       "      <th>pixel6</th>\n",
       "      <th>pixel7</th>\n",
       "      <th>pixel8</th>\n",
       "      <th>pixel9</th>\n",
       "      <th>...</th>\n",
       "      <th>pixel775</th>\n",
       "      <th>pixel776</th>\n",
       "      <th>pixel777</th>\n",
       "      <th>pixel778</th>\n",
       "      <th>pixel779</th>\n",
       "      <th>pixel780</th>\n",
       "      <th>pixel781</th>\n",
       "      <th>pixel782</th>\n",
       "      <th>pixel783</th>\n",
       "      <th>pixel784</th>\n",
       "    </tr>\n",
       "  </thead>\n",
       "  <tbody>\n",
       "    <tr>\n",
       "      <th>0</th>\n",
       "      <td>3</td>\n",
       "      <td>107</td>\n",
       "      <td>118</td>\n",
       "      <td>127</td>\n",
       "      <td>134</td>\n",
       "      <td>139</td>\n",
       "      <td>143</td>\n",
       "      <td>146</td>\n",
       "      <td>150</td>\n",
       "      <td>153</td>\n",
       "      <td>...</td>\n",
       "      <td>207</td>\n",
       "      <td>207</td>\n",
       "      <td>207</td>\n",
       "      <td>207</td>\n",
       "      <td>206</td>\n",
       "      <td>206</td>\n",
       "      <td>206</td>\n",
       "      <td>204</td>\n",
       "      <td>203</td>\n",
       "      <td>202</td>\n",
       "    </tr>\n",
       "    <tr>\n",
       "      <th>1</th>\n",
       "      <td>6</td>\n",
       "      <td>155</td>\n",
       "      <td>157</td>\n",
       "      <td>156</td>\n",
       "      <td>156</td>\n",
       "      <td>156</td>\n",
       "      <td>157</td>\n",
       "      <td>156</td>\n",
       "      <td>158</td>\n",
       "      <td>158</td>\n",
       "      <td>...</td>\n",
       "      <td>69</td>\n",
       "      <td>149</td>\n",
       "      <td>128</td>\n",
       "      <td>87</td>\n",
       "      <td>94</td>\n",
       "      <td>163</td>\n",
       "      <td>175</td>\n",
       "      <td>103</td>\n",
       "      <td>135</td>\n",
       "      <td>149</td>\n",
       "    </tr>\n",
       "    <tr>\n",
       "      <th>2</th>\n",
       "      <td>2</td>\n",
       "      <td>187</td>\n",
       "      <td>188</td>\n",
       "      <td>188</td>\n",
       "      <td>187</td>\n",
       "      <td>187</td>\n",
       "      <td>186</td>\n",
       "      <td>187</td>\n",
       "      <td>188</td>\n",
       "      <td>187</td>\n",
       "      <td>...</td>\n",
       "      <td>202</td>\n",
       "      <td>201</td>\n",
       "      <td>200</td>\n",
       "      <td>199</td>\n",
       "      <td>198</td>\n",
       "      <td>199</td>\n",
       "      <td>198</td>\n",
       "      <td>195</td>\n",
       "      <td>194</td>\n",
       "      <td>195</td>\n",
       "    </tr>\n",
       "    <tr>\n",
       "      <th>3</th>\n",
       "      <td>2</td>\n",
       "      <td>211</td>\n",
       "      <td>211</td>\n",
       "      <td>212</td>\n",
       "      <td>212</td>\n",
       "      <td>211</td>\n",
       "      <td>210</td>\n",
       "      <td>211</td>\n",
       "      <td>210</td>\n",
       "      <td>210</td>\n",
       "      <td>...</td>\n",
       "      <td>235</td>\n",
       "      <td>234</td>\n",
       "      <td>233</td>\n",
       "      <td>231</td>\n",
       "      <td>230</td>\n",
       "      <td>226</td>\n",
       "      <td>225</td>\n",
       "      <td>222</td>\n",
       "      <td>229</td>\n",
       "      <td>163</td>\n",
       "    </tr>\n",
       "    <tr>\n",
       "      <th>4</th>\n",
       "      <td>13</td>\n",
       "      <td>164</td>\n",
       "      <td>167</td>\n",
       "      <td>170</td>\n",
       "      <td>172</td>\n",
       "      <td>176</td>\n",
       "      <td>179</td>\n",
       "      <td>180</td>\n",
       "      <td>184</td>\n",
       "      <td>185</td>\n",
       "      <td>...</td>\n",
       "      <td>92</td>\n",
       "      <td>105</td>\n",
       "      <td>105</td>\n",
       "      <td>108</td>\n",
       "      <td>133</td>\n",
       "      <td>163</td>\n",
       "      <td>157</td>\n",
       "      <td>163</td>\n",
       "      <td>164</td>\n",
       "      <td>179</td>\n",
       "    </tr>\n",
       "  </tbody>\n",
       "</table>\n",
       "<p>5 rows × 785 columns</p>\n",
       "</div>"
      ],
      "text/plain": [
       "   label  pixel1  pixel2  pixel3  pixel4  pixel5  pixel6  pixel7  pixel8  \\\n",
       "0      3     107     118     127     134     139     143     146     150   \n",
       "1      6     155     157     156     156     156     157     156     158   \n",
       "2      2     187     188     188     187     187     186     187     188   \n",
       "3      2     211     211     212     212     211     210     211     210   \n",
       "4     13     164     167     170     172     176     179     180     184   \n",
       "\n",
       "   pixel9  ...  pixel775  pixel776  pixel777  pixel778  pixel779  pixel780  \\\n",
       "0     153  ...       207       207       207       207       206       206   \n",
       "1     158  ...        69       149       128        87        94       163   \n",
       "2     187  ...       202       201       200       199       198       199   \n",
       "3     210  ...       235       234       233       231       230       226   \n",
       "4     185  ...        92       105       105       108       133       163   \n",
       "\n",
       "   pixel781  pixel782  pixel783  pixel784  \n",
       "0       206       204       203       202  \n",
       "1       175       103       135       149  \n",
       "2       198       195       194       195  \n",
       "3       225       222       229       163  \n",
       "4       157       163       164       179  \n",
       "\n",
       "[5 rows x 785 columns]"
      ]
     },
     "execution_count": 3,
     "metadata": {},
     "output_type": "execute_result"
    }
   ],
   "source": [
    "df_train = pd.read_csv('../../data/sign_mnist_train.csv')\n",
    "df_test = pd.read_csv('../../data/sign_mnist_test.csv')\n",
    "\n",
    "df_train.head()"
   ]
  },
  {
   "cell_type": "code",
   "execution_count": 4,
   "metadata": {
    "metadata": {}
   },
   "outputs": [],
   "source": [
    "y_train = df_train['label'].values\n",
    "X_train = df_train.drop('label', axis=1).values\n",
    "\n",
    "y_test = df_test['label'].values\n",
    "X_test = df_test.drop('label', axis=1).values"
   ]
  },
  {
   "cell_type": "code",
   "execution_count": 5,
   "metadata": {
    "metadata": {}
   },
   "outputs": [
    {
     "data": {
      "image/png": "[encoded data removed]",
      "text/plain": [
       "<Figure size 1000x600 with 1 Axes>"
      ]
     },
     "metadata": {},
     "output_type": "display_data"
    }
   ],
   "source": [
    "# Visualisation du nombre d'image par classe dans le jeu d'entraînement\n",
    "letter_counts = {}\n",
    "for label in y_train:\n",
    "    letter = chr(label.item() + 97)  # Convertir le label en lettre (97 est le code ASCII pour 'a')\n",
    "    if letter in letter_counts:\n",
    "        letter_counts[letter] += 1\n",
    "    else:\n",
    "        letter_counts[letter] = 1\n",
    "\n",
    "sorted_letters = sorted(letter_counts.keys())\n",
    "\n",
    "# Créer l'histogramme\n",
    "plt.figure(figsize=(10, 6))\n",
    "colors = cm.rainbow(np.linspace(0, 1, len(sorted_letters)))\n",
    "plt.bar(sorted_letters, [letter_counts[letter] for letter in sorted_letters], color=colors)\n",
    "plt.xlabel('Letter')\n",
    "plt.ylabel('Number of Images')\n",
    "plt.title('Number of Images per Letter in Training Dataset')\n",
    "plt.show()\n"
   ]
  },
  {
   "cell_type": "code",
   "execution_count": 6,
   "metadata": {
    "metadata": {}
   },
   "outputs": [],
   "source": [
    "history = {'train_loss': [], 'train_acc': [], 'test_loss': [], 'test_acc': []}"
   ]
  },
  {
   "cell_type": "code",
   "execution_count": 7,
   "metadata": {
    "metadata": {}
   },
   "outputs": [],
   "source": [
    "BATCH_SIZE = 32\n",
    "\n",
    "torch_X_train = torch.from_numpy(X_train).type(torch.LongTensor)\n",
    "torch_y_train = torch.from_numpy(y_train).type(torch.LongTensor)\n",
    "\n",
    "torch_X_test = torch.from_numpy(X_test).type(torch.LongTensor)\n",
    "torch_y_test = torch.from_numpy(y_test).type(torch.LongTensor)"
   ]
  },
  {
   "cell_type": "code",
   "execution_count": 8,
   "metadata": {
    "metadata": {}
   },
   "outputs": [],
   "source": [
    "def fit(model, train_loader):\n",
    "    optimizer = torch.optim.Adam(model.parameters())\n",
    "    loss_fn = nn.CrossEntropyLoss()\n",
    "    epochs = 15\n",
    "    model.train()\n",
    "    for epoch in range(epochs):\n",
    "        correct = 0\n",
    "        for batch_id , (X_batch, y_batch) in enumerate(train_loader):\n",
    "            var_X_batch = Variable(X_batch).float()\n",
    "            var_y_batch = Variable(y_batch)\n",
    "            optimizer.zero_grad()\n",
    "            output = model(var_X_batch)\n",
    "            loss = loss_fn(output, var_y_batch)\n",
    "            loss.backward()\n",
    "            optimizer.step()\n",
    "\n",
    "            # Compte le nombre de prédictions correctes\n",
    "            prediction = torch.max(output.data, 1)[1] \n",
    "            correct += (prediction == var_y_batch).sum()\n",
    "            if batch_id % 50 == 0:\n",
    "                print('Epoch : {} [{}/{} ({:.0f}%)]\\tLoss: {:.6f}\\t Accuracy:{:.3f}%'.format(\n",
    "                    epoch, batch_id*len(X_batch), len(train_loader.dataset), 100.*batch_id / len(train_loader), loss.data, float(correct*100) / float(BATCH_SIZE*(batch_id+1))))\n",
    "            # if float(correct*100) / float(BATCH_SIZE*(batch_id+1)) > 90:\n",
    "            #     break"
   ]
  },
  {
   "cell_type": "code",
   "execution_count": 9,
   "metadata": {
    "metadata": {}
   },
   "outputs": [],
   "source": [
    "# Nous devons redimensionner les données pour les passer dans le réseau de neurones convolutif\n",
    "torch_X_train = torch_X_train.view(-1, 1,28,28).float()\n",
    "torch_X_test = torch_X_test.view(-1,1,28,28).float()\n",
    "\n",
    "train = torch.utils.data.TensorDataset(torch_X_train,torch_y_train)\n",
    "test = torch.utils.data.TensorDataset(torch_X_test,torch_y_test)\n",
    "\n",
    "# charge les données dans le DataLoader de PyTorch\n",
    "train_loader = torch.utils.data.DataLoader(train, batch_size = BATCH_SIZE, shuffle = True)\n",
    "test_loader = torch.utils.data.DataLoader(test, batch_size = BATCH_SIZE, shuffle = False)"
   ]
  },
  {
   "cell_type": "markdown",
   "metadata": {},
   "source": [
    "#### Augmentation des données"
   ]
  },
  {
   "cell_type": "code",
   "execution_count": 10,
   "metadata": {
    "metadata": {}
   },
   "outputs": [],
   "source": [
    "data_transforms = v2.Compose([\n",
    "    v2.RandomRotation(degrees=10),\n",
    "    #v2.RandomPerspective(distortion_scale=0.2),\n",
    "    v2.RandomHorizontalFlip(p=0.5), \n",
    "    v2.RandomAffine(degrees=0, translate=(0.1, 0.1), scale=(0.9, 1.1)),  # Zoom et translation aléatoires\n",
    "    #v2.ToDtype(torch.float32, scale=True),\n",
    "    #v2.Normalize(mean=[0.485], std=[0.225])\n",
    "])"
   ]
  },
  {
   "cell_type": "code",
   "execution_count": 11,
   "metadata": {
    "metadata": {}
   },
   "outputs": [
    {
     "name": "stdout",
     "output_type": "stream",
     "text": [
      "torch.Size([27455, 1, 28, 28])\n",
      "torch.Size([54910, 1, 28, 28])\n"
     ]
    }
   ],
   "source": [
    "percentage_of_augmented_data = 100 # 100 to double the amount of data\n",
    "random_integers = random.sample(range(torch_X_train.size()[0]), int((percentage_of_augmented_data)/100*torch_X_train.size()[0]))\n",
    "\n",
    "\n",
    "# Créer une liste pour stocker les nouveaux objets\n",
    "new_images = []\n",
    "new_labels = []\n",
    "\n",
    "# Parcourir les indices aléatoires\n",
    "for i in random_integers:\n",
    "    img = torch_X_train[i]\n",
    "    transformed_img = data_transforms(img)\n",
    "    \n",
    "    # Ajouter l'image transformée à la liste\n",
    "    new_images.append(transformed_img.unsqueeze(0))\n",
    "    \n",
    "    # Ajouter l'étiquette correspondante à la liste\n",
    "    new_labels.append(torch_y_train[i].unsqueeze(0))\n",
    "\n",
    "print(torch_X_train.size())\n",
    "# Concaténer les nouvelles images et étiquettes avec les données d'origine\n",
    "if new_images:\n",
    "    new_images = torch.cat(new_images, dim=0)\n",
    "    new_labels = torch.cat(new_labels, dim=0)\n",
    "\n",
    "    torch_X_train = torch.cat((torch_X_train, new_images), dim=0)\n",
    "    torch_y_train = torch.cat((torch_y_train, new_labels), dim=0)\n",
    "\n",
    "print(torch_X_train.size())"
   ]
  },
  {
   "cell_type": "code",
   "execution_count": 12,
   "metadata": {
    "metadata": {}
   },
   "outputs": [],
   "source": [
    "train = torch.utils.data.TensorDataset(torch_X_train,torch_y_train)\n",
    "train_loader = torch.utils.data.DataLoader(train, batch_size = BATCH_SIZE, shuffle = True)"
   ]
  },
  {
   "cell_type": "code",
   "execution_count": 13,
   "metadata": {
    "metadata": {}
   },
   "outputs": [
    {
     "name": "stdout",
     "output_type": "stream",
     "text": [
      "ConvNet(\n",
      "  (conv1): Conv2d(1, 75, kernel_size=(3, 3), stride=(1, 1), padding=(1, 1))\n",
      "  (batchnorm1): BatchNorm2d(75, eps=1e-05, momentum=0.1, affine=True, track_running_stats=True)\n",
      "  (pool1): MaxPool2d(kernel_size=2, stride=2, padding=0, dilation=1, ceil_mode=False)\n",
      "  (conv2): Conv2d(75, 50, kernel_size=(3, 3), stride=(1, 1), padding=(1, 1))\n",
      "  (dropout): Dropout2d(p=0.2, inplace=False)\n",
      "  (batchnorm2): BatchNorm2d(50, eps=1e-05, momentum=0.1, affine=True, track_running_stats=True)\n",
      "  (pool2): MaxPool2d(kernel_size=2, stride=2, padding=0, dilation=1, ceil_mode=False)\n",
      "  (conv3): Conv2d(50, 25, kernel_size=(3, 3), stride=(1, 1), padding=(1, 1))\n",
      "  (batchnorm3): BatchNorm2d(25, eps=1e-05, momentum=0.1, affine=True, track_running_stats=True)\n",
      "  (pool3): MaxPool2d(kernel_size=2, stride=2, padding=0, dilation=1, ceil_mode=False)\n",
      "  (fc1): Linear(in_features=225, out_features=512, bias=True)\n",
      "  (dropout2): Dropout(p=0.3, inplace=False)\n",
      "  (fc2): Linear(in_features=512, out_features=25, bias=True)\n",
      ")\n"
     ]
    }
   ],
   "source": [
    "class ConvNet(nn.Module):\n",
    "    def __init__(self):\n",
    "        super(ConvNet, self).__init__()\n",
    "        self.conv1 = nn.Conv2d(1, 75, kernel_size=3, stride=1, padding=1)\n",
    "        self.batchnorm1 = nn.BatchNorm2d(75)\n",
    "        self.pool1 = nn.MaxPool2d(kernel_size=2, stride=2, padding=0)\n",
    "        \n",
    "        self.conv2 = nn.Conv2d(75, 50, kernel_size=3, stride=1, padding=1)\n",
    "        self.dropout = nn.Dropout2d(p=0.2)\n",
    "        self.batchnorm2 = nn.BatchNorm2d(50)\n",
    "        self.pool2 = nn.MaxPool2d(kernel_size=2, stride=2, padding=0)\n",
    "        \n",
    "        self.conv3 = nn.Conv2d(50, 25, kernel_size=3, stride=1, padding=1)\n",
    "        self.batchnorm3 = nn.BatchNorm2d(25)\n",
    "        self.pool3 = nn.MaxPool2d(kernel_size=2, stride=2, padding=0)\n",
    "        \n",
    "        self.fc1 = nn.Linear(25*3*3, 512)\n",
    "        self.dropout2 = nn.Dropout(p=0.3)\n",
    "        self.fc2 = nn.Linear(512, 25)\n",
    "\n",
    "    def forward(self, x):\n",
    "        x = F.relu(self.conv1(x))\n",
    "        x = self.batchnorm1(x)\n",
    "        x = self.pool1(x)\n",
    "        \n",
    "        x = F.relu(self.conv2(x))\n",
    "        x = self.dropout(x)\n",
    "        x = self.batchnorm2(x)\n",
    "        x = self.pool2(x)\n",
    "        \n",
    "        x = F.relu(self.conv3(x))\n",
    "        x = self.batchnorm3(x)\n",
    "        x = self.pool3(x)\n",
    "        \n",
    "        x = x.view(-1, 25*3*3)\n",
    "        x = F.relu(self.fc1(x))\n",
    "        x = self.dropout2(x)\n",
    "        x = self.fc2(x)\n",
    "        return F.log_softmax(x, dim=1)\n",
    "\n",
    "# Création de l'instance du modèle\n",
    "cnn = ConvNet()\n",
    "print(cnn)"
   ]
  },
  {
   "cell_type": "code",
   "execution_count": 14,
   "metadata": {
    "metadata": {}
   },
   "outputs": [
    {
     "name": "stdout",
     "output_type": "stream",
     "text": [
      "Epoch : 0 [0/54910 (0%)]\tLoss: 3.206438\t Accuracy:6.250%\n",
      "Epoch : 0 [1600/54910 (3%)]\tLoss: 2.554861\t Accuracy:14.154%\n",
      "Epoch : 0 [3200/54910 (6%)]\tLoss: 1.420621\t Accuracy:24.814%\n",
      "Epoch : 0 [4800/54910 (9%)]\tLoss: 0.926988\t Accuracy:34.230%\n",
      "Epoch : 0 [6400/54910 (12%)]\tLoss: 0.679366\t Accuracy:40.874%\n",
      "Epoch : 0 [8000/54910 (15%)]\tLoss: 0.967188\t Accuracy:45.966%\n",
      "Epoch : 0 [9600/54910 (17%)]\tLoss: 0.878166\t Accuracy:50.228%\n",
      "Epoch : 0 [11200/54910 (20%)]\tLoss: 0.678639\t Accuracy:53.454%\n",
      "Epoch : 0 [12800/54910 (23%)]\tLoss: 0.791292\t Accuracy:56.593%\n",
      "Epoch : 0 [14400/54910 (26%)]\tLoss: 0.624362\t Accuracy:59.070%\n",
      "Epoch : 0 [16000/54910 (29%)]\tLoss: 0.612725\t Accuracy:61.327%\n",
      "Epoch : 0 [17600/54910 (32%)]\tLoss: 1.029905\t Accuracy:63.181%\n",
      "Epoch : 0 [19200/54910 (35%)]\tLoss: 0.934069\t Accuracy:64.736%\n",
      "Epoch : 0 [20800/54910 (38%)]\tLoss: 0.366738\t Accuracy:66.321%\n",
      "Epoch : 0 [22400/54910 (41%)]\tLoss: 0.253381\t Accuracy:67.760%\n",
      "Epoch : 0 [24000/54910 (44%)]\tLoss: 0.449006\t Accuracy:69.120%\n",
      "Epoch : 0 [25600/54910 (47%)]\tLoss: 0.269204\t Accuracy:70.244%\n",
      "Epoch : 0 [27200/54910 (50%)]\tLoss: 0.181149\t Accuracy:71.251%\n",
      "Epoch : 0 [28800/54910 (52%)]\tLoss: 0.598251\t Accuracy:72.236%\n",
      "Epoch : 0 [30400/54910 (55%)]\tLoss: 0.231617\t Accuracy:73.111%\n",
      "Epoch : 0 [32000/54910 (58%)]\tLoss: 0.508959\t Accuracy:73.917%\n",
      "Epoch : 0 [33600/54910 (61%)]\tLoss: 0.397788\t Accuracy:74.664%\n",
      "Epoch : 0 [35200/54910 (64%)]\tLoss: 0.360578\t Accuracy:75.329%\n",
      "Epoch : 0 [36800/54910 (67%)]\tLoss: 0.312150\t Accuracy:75.918%\n",
      "Epoch : 0 [38400/54910 (70%)]\tLoss: 0.400715\t Accuracy:76.582%\n",
      "Epoch : 0 [40000/54910 (73%)]\tLoss: 0.154920\t Accuracy:77.198%\n",
      "Epoch : 0 [41600/54910 (76%)]\tLoss: 0.242413\t Accuracy:77.772%\n",
      "Epoch : 0 [43200/54910 (79%)]\tLoss: 0.170102\t Accuracy:78.310%\n",
      "Epoch : 0 [44800/54910 (82%)]\tLoss: 0.355352\t Accuracy:78.750%\n",
      "Epoch : 0 [46400/54910 (84%)]\tLoss: 0.057706\t Accuracy:79.234%\n",
      "Epoch : 0 [48000/54910 (87%)]\tLoss: 0.245480\t Accuracy:79.649%\n",
      "Epoch : 0 [49600/54910 (90%)]\tLoss: 0.198025\t Accuracy:80.033%\n",
      "Epoch : 0 [51200/54910 (93%)]\tLoss: 0.319356\t Accuracy:80.409%\n",
      "Epoch : 0 [52800/54910 (96%)]\tLoss: 0.374108\t Accuracy:80.781%\n",
      "Epoch : 0 [54400/54910 (99%)]\tLoss: 0.316542\t Accuracy:81.147%\n",
      "Epoch : 1 [0/54910 (0%)]\tLoss: 0.151877\t Accuracy:93.750%\n",
      "Epoch : 1 [1600/54910 (3%)]\tLoss: 0.057684\t Accuracy:94.730%\n",
      "Epoch : 1 [3200/54910 (6%)]\tLoss: 0.237047\t Accuracy:94.431%\n",
      "Epoch : 1 [4800/54910 (9%)]\tLoss: 0.087859\t Accuracy:94.723%\n",
      "Epoch : 1 [6400/54910 (12%)]\tLoss: 0.106702\t Accuracy:94.745%\n",
      "Epoch : 1 [8000/54910 (15%)]\tLoss: 0.328407\t Accuracy:94.796%\n",
      "Epoch : 1 [9600/54910 (17%)]\tLoss: 0.106983\t Accuracy:94.664%\n",
      "Epoch : 1 [11200/54910 (20%)]\tLoss: 0.103078\t Accuracy:94.605%\n",
      "Epoch : 1 [12800/54910 (23%)]\tLoss: 0.307985\t Accuracy:94.576%\n",
      "Epoch : 1 [14400/54910 (26%)]\tLoss: 0.191534\t Accuracy:94.595%\n",
      "Epoch : 1 [16000/54910 (29%)]\tLoss: 0.242906\t Accuracy:94.661%\n",
      "Epoch : 1 [17600/54910 (32%)]\tLoss: 0.204509\t Accuracy:94.493%\n",
      "Epoch : 1 [19200/54910 (35%)]\tLoss: 0.144659\t Accuracy:94.462%\n",
      "Epoch : 1 [20800/54910 (38%)]\tLoss: 0.200345\t Accuracy:94.321%\n",
      "Epoch : 1 [22400/54910 (41%)]\tLoss: 0.350714\t Accuracy:94.321%\n",
      "Epoch : 1 [24000/54910 (44%)]\tLoss: 0.046748\t Accuracy:94.333%\n",
      "Epoch : 1 [25600/54910 (47%)]\tLoss: 0.061540\t Accuracy:94.402%\n",
      "Epoch : 1 [27200/54910 (50%)]\tLoss: 0.144421\t Accuracy:94.393%\n",
      "Epoch : 1 [28800/54910 (52%)]\tLoss: 0.317514\t Accuracy:94.440%\n",
      "Epoch : 1 [30400/54910 (55%)]\tLoss: 0.175769\t Accuracy:94.427%\n",
      "Epoch : 1 [32000/54910 (58%)]\tLoss: 0.342981\t Accuracy:94.499%\n",
      "Epoch : 1 [33600/54910 (61%)]\tLoss: 0.038045\t Accuracy:94.568%\n",
      "Epoch : 1 [35200/54910 (64%)]\tLoss: 0.111572\t Accuracy:94.548%\n",
      "Epoch : 1 [36800/54910 (67%)]\tLoss: 0.037622\t Accuracy:94.524%\n",
      "Epoch : 1 [38400/54910 (70%)]\tLoss: 0.159915\t Accuracy:94.596%\n",
      "Epoch : 1 [40000/54910 (73%)]\tLoss: 0.070299\t Accuracy:94.592%\n",
      "Epoch : 1 [41600/54910 (76%)]\tLoss: 0.143765\t Accuracy:94.615%\n",
      "Epoch : 1 [43200/54910 (79%)]\tLoss: 0.172904\t Accuracy:94.608%\n",
      "Epoch : 1 [44800/54910 (82%)]\tLoss: 0.179567\t Accuracy:94.631%\n",
      "Epoch : 1 [46400/54910 (84%)]\tLoss: 0.046157\t Accuracy:94.657%\n",
      "Epoch : 1 [48000/54910 (87%)]\tLoss: 0.195783\t Accuracy:94.624%\n",
      "Epoch : 1 [49600/54910 (90%)]\tLoss: 0.093603\t Accuracy:94.659%\n",
      "Epoch : 1 [51200/54910 (93%)]\tLoss: 0.082991\t Accuracy:94.689%\n",
      "Epoch : 1 [52800/54910 (96%)]\tLoss: 0.065669\t Accuracy:94.710%\n",
      "Epoch : 1 [54400/54910 (99%)]\tLoss: 0.065351\t Accuracy:94.748%\n",
      "Epoch : 2 [0/54910 (0%)]\tLoss: 0.141980\t Accuracy:93.750%\n",
      "Epoch : 2 [1600/54910 (3%)]\tLoss: 0.153292\t Accuracy:96.569%\n",
      "Epoch : 2 [3200/54910 (6%)]\tLoss: 0.067498\t Accuracy:96.627%\n",
      "Epoch : 2 [4800/54910 (9%)]\tLoss: 0.166482\t Accuracy:96.502%\n",
      "Epoch : 2 [6400/54910 (12%)]\tLoss: 0.233113\t Accuracy:96.595%\n",
      "Epoch : 2 [8000/54910 (15%)]\tLoss: 0.042296\t Accuracy:96.539%\n",
      "Epoch : 2 [9600/54910 (17%)]\tLoss: 0.177368\t Accuracy:96.366%\n",
      "Epoch : 2 [11200/54910 (20%)]\tLoss: 0.128204\t Accuracy:96.278%\n",
      "Epoch : 2 [12800/54910 (23%)]\tLoss: 0.109989\t Accuracy:96.361%\n",
      "Epoch : 2 [14400/54910 (26%)]\tLoss: 0.060890\t Accuracy:96.369%\n",
      "Epoch : 2 [16000/54910 (29%)]\tLoss: 0.051323\t Accuracy:96.382%\n",
      "Epoch : 2 [17600/54910 (32%)]\tLoss: 0.112834\t Accuracy:96.331%\n",
      "Epoch : 2 [19200/54910 (35%)]\tLoss: 0.032988\t Accuracy:96.313%\n",
      "Epoch : 2 [20800/54910 (38%)]\tLoss: 0.095537\t Accuracy:96.309%\n",
      "Epoch : 2 [22400/54910 (41%)]\tLoss: 0.050968\t Accuracy:96.295%\n"
     ]
    },
    {
     "ename": "KeyboardInterrupt",
     "evalue": "",
     "output_type": "error",
     "traceback": [
      "\u001b[0;31m---------------------------------------------------------------------------\u001b[0m",
      "\u001b[0;31mKeyboardInterrupt\u001b[0m                         Traceback (most recent call last)",
      "Cell \u001b[0;32mIn[14], line 1\u001b[0m\n\u001b[0;32m----> 1\u001b[0m \u001b[43mfit\u001b[49m\u001b[43m(\u001b[49m\u001b[43mcnn\u001b[49m\u001b[43m,\u001b[49m\u001b[43mtrain_loader\u001b[49m\u001b[43m)\u001b[49m\n",
      "Cell \u001b[0;32mIn[8], line 14\u001b[0m, in \u001b[0;36mfit\u001b[0;34m(model, train_loader)\u001b[0m\n\u001b[1;32m     12\u001b[0m output \u001b[38;5;241m=\u001b[39m model(var_X_batch)\n\u001b[1;32m     13\u001b[0m loss \u001b[38;5;241m=\u001b[39m loss_fn(output, var_y_batch)\n\u001b[0;32m---> 14\u001b[0m \u001b[43mloss\u001b[49m\u001b[38;5;241;43m.\u001b[39;49m\u001b[43mbackward\u001b[49m\u001b[43m(\u001b[49m\u001b[43m)\u001b[49m\n\u001b[1;32m     15\u001b[0m optimizer\u001b[38;5;241m.\u001b[39mstep()\n\u001b[1;32m     17\u001b[0m \u001b[38;5;66;03m# Compte le nombre de prédictions correctes\u001b[39;00m\n",
      "File \u001b[0;32m~/documents/projettelecomlinux/IAMD/SignLanguageLetterRecognitionAI/env/lib/python3.10/site-packages/torch/_tensor.py:522\u001b[0m, in \u001b[0;36mTensor.backward\u001b[0;34m(self, gradient, retain_graph, create_graph, inputs)\u001b[0m\n\u001b[1;32m    512\u001b[0m \u001b[38;5;28;01mif\u001b[39;00m has_torch_function_unary(\u001b[38;5;28mself\u001b[39m):\n\u001b[1;32m    513\u001b[0m     \u001b[38;5;28;01mreturn\u001b[39;00m handle_torch_function(\n\u001b[1;32m    514\u001b[0m         Tensor\u001b[38;5;241m.\u001b[39mbackward,\n\u001b[1;32m    515\u001b[0m         (\u001b[38;5;28mself\u001b[39m,),\n\u001b[0;32m   (...)\u001b[0m\n\u001b[1;32m    520\u001b[0m         inputs\u001b[38;5;241m=\u001b[39minputs,\n\u001b[1;32m    521\u001b[0m     )\n\u001b[0;32m--> 522\u001b[0m \u001b[43mtorch\u001b[49m\u001b[38;5;241;43m.\u001b[39;49m\u001b[43mautograd\u001b[49m\u001b[38;5;241;43m.\u001b[39;49m\u001b[43mbackward\u001b[49m\u001b[43m(\u001b[49m\n\u001b[1;32m    523\u001b[0m \u001b[43m    \u001b[49m\u001b[38;5;28;43mself\u001b[39;49m\u001b[43m,\u001b[49m\u001b[43m \u001b[49m\u001b[43mgradient\u001b[49m\u001b[43m,\u001b[49m\u001b[43m \u001b[49m\u001b[43mretain_graph\u001b[49m\u001b[43m,\u001b[49m\u001b[43m \u001b[49m\u001b[43mcreate_graph\u001b[49m\u001b[43m,\u001b[49m\u001b[43m \u001b[49m\u001b[43minputs\u001b[49m\u001b[38;5;241;43m=\u001b[39;49m\u001b[43minputs\u001b[49m\n\u001b[1;32m    524\u001b[0m \u001b[43m\u001b[49m\u001b[43m)\u001b[49m\n",
      "File \u001b[0;32m~/documents/projettelecomlinux/IAMD/SignLanguageLetterRecognitionAI/env/lib/python3.10/site-packages/torch/autograd/__init__.py:266\u001b[0m, in \u001b[0;36mbackward\u001b[0;34m(tensors, grad_tensors, retain_graph, create_graph, grad_variables, inputs)\u001b[0m\n\u001b[1;32m    261\u001b[0m     retain_graph \u001b[38;5;241m=\u001b[39m create_graph\n\u001b[1;32m    263\u001b[0m \u001b[38;5;66;03m# The reason we repeat the same comment below is that\u001b[39;00m\n\u001b[1;32m    264\u001b[0m \u001b[38;5;66;03m# some Python versions print out the first line of a multi-line function\u001b[39;00m\n\u001b[1;32m    265\u001b[0m \u001b[38;5;66;03m# calls in the traceback and some print out the last line\u001b[39;00m\n\u001b[0;32m--> 266\u001b[0m \u001b[43mVariable\u001b[49m\u001b[38;5;241;43m.\u001b[39;49m\u001b[43m_execution_engine\u001b[49m\u001b[38;5;241;43m.\u001b[39;49m\u001b[43mrun_backward\u001b[49m\u001b[43m(\u001b[49m\u001b[43m  \u001b[49m\u001b[38;5;66;43;03m# Calls into the C++ engine to run the backward pass\u001b[39;49;00m\n\u001b[1;32m    267\u001b[0m \u001b[43m    \u001b[49m\u001b[43mtensors\u001b[49m\u001b[43m,\u001b[49m\n\u001b[1;32m    268\u001b[0m \u001b[43m    \u001b[49m\u001b[43mgrad_tensors_\u001b[49m\u001b[43m,\u001b[49m\n\u001b[1;32m    269\u001b[0m \u001b[43m    \u001b[49m\u001b[43mretain_graph\u001b[49m\u001b[43m,\u001b[49m\n\u001b[1;32m    270\u001b[0m \u001b[43m    \u001b[49m\u001b[43mcreate_graph\u001b[49m\u001b[43m,\u001b[49m\n\u001b[1;32m    271\u001b[0m \u001b[43m    \u001b[49m\u001b[43minputs\u001b[49m\u001b[43m,\u001b[49m\n\u001b[1;32m    272\u001b[0m \u001b[43m    \u001b[49m\u001b[43mallow_unreachable\u001b[49m\u001b[38;5;241;43m=\u001b[39;49m\u001b[38;5;28;43;01mTrue\u001b[39;49;00m\u001b[43m,\u001b[49m\n\u001b[1;32m    273\u001b[0m \u001b[43m    \u001b[49m\u001b[43maccumulate_grad\u001b[49m\u001b[38;5;241;43m=\u001b[39;49m\u001b[38;5;28;43;01mTrue\u001b[39;49;00m\u001b[43m,\u001b[49m\n\u001b[1;32m    274\u001b[0m \u001b[43m\u001b[49m\u001b[43m)\u001b[49m\n",
      "\u001b[0;31mKeyboardInterrupt\u001b[0m: "
     ]
    }
   ],
   "source": [
    "fit(cnn,train_loader)"
   ]
  },
  {
   "cell_type": "code",
   "execution_count": 15,
   "metadata": {
    "metadata": {}
   },
   "outputs": [],
   "source": [
    "def evaluate(model):\n",
    "    correct = 0 \n",
    "    for test_imgs, test_labels in test_loader:\n",
    "        test_imgs = Variable(test_imgs).float()\n",
    "        output = model(test_imgs)\n",
    "        predicted = torch.max(output,1)[1]\n",
    "        correct += (predicted == test_labels).sum()\n",
    "    print(\"Test accuracy:{:.3f}% \".format( float(correct) / (len(test_loader)*BATCH_SIZE)))\n"
   ]
  },
  {
   "cell_type": "code",
   "execution_count": 16,
   "metadata": {
    "metadata": {}
   },
   "outputs": [
    {
     "name": "stdout",
     "output_type": "stream",
     "text": [
      "Test accuracy:0.950% \n"
     ]
    }
   ],
   "source": [
    "evaluate(cnn)"
   ]
  },
  {
   "cell_type": "markdown",
   "metadata": {},
   "source": [
    "avec le modèle ConvNet et batch à 32 (sans data augmentation): test accuracy : 0.958%   \n",
    "avec le modèle ConvNet et batch à 128 (sans data augmentation): test accuracy : 0.929%  \n",
    "avec le modèle ConvNet et batch à 32 (avec data augmentation): test accuracy : 0.983%"
   ]
  },
  {
   "cell_type": "code",
   "execution_count": 56,
   "metadata": {},
   "outputs": [],
   "source": [
    "# Fonction pour afficher les poids des filtres\n",
    "def visualize_conv_weights(weights, title):\n",
    "    n_filters = weights.shape[0]\n",
    "    n_channels = weights.shape[1]\n",
    "    \n",
    "    # Calcul de la disposition de la grille\n",
    "    grid_size = int(np.ceil(np.sqrt(n_filters)))\n",
    "    \n",
    "    fig, axes = plt.subplots(grid_size, grid_size, figsize=(grid_size*2, grid_size*2))\n",
    "    fig.suptitle(title)\n",
    "    \n",
    "    for i, ax in enumerate(axes.flat):\n",
    "        if i < n_filters:\n",
    "            img = weights[i, 0].detach().numpy()\n",
    "            img = (img - np.min(img)) / (np.max(img) - np.min(img))  # Normalisation\n",
    "            ax.imshow(img, cmap='gray')\n",
    "            ax.axis('off')\n",
    "        else:\n",
    "            ax.axis('off')  # Masquer les axes inutilisés\n",
    "    plt.show()"
   ]
  },
  {
   "cell_type": "code",
   "execution_count": 58,
   "metadata": {},
   "outputs": [
    {
     "data": {
      "image/png": "[encoded data removed]",
      "text/plain": [
       "<Figure size 1800x1800 with 81 Axes>"
      ]
     },
     "metadata": {},
     "output_type": "display_data"
    },
    {
     "data": {
      "image/png": "[encoded data removed]",
      "text/plain": [
       "<Figure size 1600x1600 with 64 Axes>"
      ]
     },
     "metadata": {},
     "output_type": "display_data"
    },
    {
     "data": {
      "image/png": "[encoded data removed]",
      "text/plain": [
       "<Figure size 1000x1000 with 25 Axes>"
      ]
     },
     "metadata": {},
     "output_type": "display_data"
    }
   ],
   "source": [
    "# Affichage des poids des filtres de la première couche de convolution\n",
    "conv1_weights = cnn.conv1.weight\n",
    "visualize_conv_weights(conv1_weights, \"Conv1 Weights\")\n",
    "# Affichage des poids des filtres de la 2e couche de convolution\n",
    "conv2_weights = cnn.conv2.weight\n",
    "visualize_conv_weights(conv2_weights, \"Conv2 Weights\")\n",
    "# Affichage des poids des filtres de la 3e couche de convolution\n",
    "conv3_weights = cnn.conv3.weight\n",
    "visualize_conv_weights(conv3_weights, \"Conv3 Weights\")"
   ]
  },
  {
   "cell_type": "code",
   "execution_count": 18,
   "metadata": {
    "metadata": {}
   },
   "outputs": [
    {
     "data": {
      "image/png": "[encoded data removed]",
      "text/plain": [
       "<Figure size 1200x600 with 1 Axes>"
      ]
     },
     "metadata": {},
     "output_type": "display_data"
    }
   ],
   "source": [
    "def plot_performance(history):\n",
    "    epochs = len(history['train_loss'])\n",
    "    plt.figure(figsize=(12, 6))\n",
    "    plt.subplot(1, 2, 1)\n",
    "    plt.plot(range(1, epochs+1), history['train_acc'], label='Training')\n",
    "    plt.plot(range(1, epochs+1), history['test_acc'], label='Testing')\n",
    "    plt.title('Accuracy of the model in training and testing')\n",
    "    plt.xlabel('Epoch')\n",
    "    plt.ylabel('Accuracy')\n",
    "    plt.legend()\n",
    "    plt.show()\n",
    "\n",
    "plot_performance(history)\n"
   ]
  },
  {
   "cell_type": "code",
   "execution_count": 21,
   "metadata": {
    "metadata": {}
   },
   "outputs": [
    {
     "name": "stdout",
     "output_type": "stream",
     "text": [
      "[]\n"
     ]
    }
   ],
   "source": []
  }
 ],
 "metadata": {
  "kernelspec": {
   "display_name": "proj_ia",
   "language": "python",
   "name": "python3"
  },
  "language_info": {
   "codemirror_mode": {
    "name": "ipython",
    "version": 3
   },
   "file_extension": ".py",
   "mimetype": "text/x-python",
   "name": "python",
   "nbconvert_exporter": "python",
   "pygments_lexer": "ipython3",
   "version": "3.11.8"
  }
 },
 "nbformat": 4,
 "nbformat_minor": 2
}
